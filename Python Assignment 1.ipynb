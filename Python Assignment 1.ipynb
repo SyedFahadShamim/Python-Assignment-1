{
 "cells": [
  {
   "cell_type": "code",
   "execution_count": 7,
   "metadata": {},
   "outputs": [
    {
     "name": "stdout",
     "output_type": "stream",
     "text": [
      "Twinkle, twinkle, little star, \n",
      "      How I wonder what you are! \n",
      "          Up above the world so high, \n",
      "          Like a diamond in the sky. \n",
      "Twinkle, twinkle, little star, \n",
      "      How I wonder what you are\n"
     ]
    }
   ],
   "source": [
    "print(\"Twinkle, twinkle, little star, \\n      How I wonder what you are! \\n          Up above the world so high, \\n          Like a diamond in the sky. \\nTwinkle, twinkle, little star, \\n      How I wonder what you are\")"
   ]
  },
  {
   "cell_type": "code",
   "execution_count": 9,
   "metadata": {},
   "outputs": [
    {
     "name": "stdout",
     "output_type": "stream",
     "text": [
      "Python version :3.6.7 | packaged by conda-forge | (default, Jul  2 2019, 02:18:42) \n",
      "[GCC 7.3.0]\n"
     ]
    }
   ],
   "source": [
    "import sys\n",
    "print(\"Python version :\" + sys.version)\n"
   ]
  },
  {
   "cell_type": "code",
   "execution_count": 2,
   "metadata": {},
   "outputs": [
    {
     "name": "stdout",
     "output_type": "stream",
     "text": [
      "Date : 2019-10-30\n",
      "Time : 07:32:10\n"
     ]
    }
   ],
   "source": [
    "import datetime\n",
    "Current_dateAndTime = datetime.datetime.now()\n",
    "print(\"Date : \" + Current_dateAndTime.strftime(\"%Y-%m-%d\"))\n",
    "print(\"Time : \" + Current_dateAndTime.strftime(\"%I:%M:%S\"))\n"
   ]
  },
  {
   "cell_type": "code",
   "execution_count": 1,
   "metadata": {},
   "outputs": [
    {
     "name": "stdout",
     "output_type": "stream",
     "text": [
      "Enter the value of Radius to Compute Area of Circle : 3\n",
      "Area of circle: 28.27\n"
     ]
    }
   ],
   "source": [
    "from math import pi\n",
    "radius = float(input(\"Enter the value of Radius to Compute Area of Circle : \"))\n",
    "print(\"Area of circle: \" + str(round( pi*(radius**2),2 )))"
   ]
  },
  {
   "cell_type": "code",
   "execution_count": 4,
   "metadata": {},
   "outputs": [
    {
     "name": "stdout",
     "output_type": "stream",
     "text": [
      "Enter your First Name :fahad\n",
      "Now Enter your Last Name :shamim\n",
      "Here is your Full name : fahad shamim\n",
      "And This is your Name in reversed Order : dahaf mimahs\n"
     ]
    }
   ],
   "source": [
    "FirstName = input(\"Enter your First Name :\")\n",
    "LastName = input(\"Now Enter your Last Name :\")\n",
    "\n",
    "print(\"Here is your Full name : \" + FirstName +\" \"+ LastName)\n",
    "\n",
    "reversedFirstName = ''.join(reversed(FirstName))\n",
    "reversedLastName = ''.join(reversed(LastName))\n",
    "\n",
    "print(\"And This is your Name in reversed Order : \" + reversedFirstName +\" \"+ reversedLastName)\n"
   ]
  },
  {
   "cell_type": "code",
   "execution_count": 6,
   "metadata": {},
   "outputs": [
    {
     "name": "stdout",
     "output_type": "stream",
     "text": [
      "Addition of two numbers\n",
      "Enter first number : 909\n",
      "Enter second number : 13\n",
      "Answer : 922\n"
     ]
    }
   ],
   "source": [
    "print(\"Addition of two numbers\")\n",
    "\n",
    "num1 = int(input(\"Enter first number : \"))\n",
    "num2 = int(input(\"Enter second number : \"))\n",
    "\n",
    "print(\"Answer : \" + str(num1+num2))"
   ]
  },
  {
   "cell_type": "code",
   "execution_count": null,
   "metadata": {},
   "outputs": [],
   "source": []
  }
 ],
 "metadata": {
  "kernelspec": {
   "display_name": "Python 3",
   "language": "python",
   "name": "python3"
  },
  "language_info": {
   "codemirror_mode": {
    "name": "ipython",
    "version": 3
   },
   "file_extension": ".py",
   "mimetype": "text/x-python",
   "name": "python",
   "nbconvert_exporter": "python",
   "pygments_lexer": "ipython3",
   "version": "3.6.7"
  }
 },
 "nbformat": 4,
 "nbformat_minor": 2
}
