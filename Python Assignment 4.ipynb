{
 "cells": [
  {
   "cell_type": "markdown",
   "metadata": {},
   "source": [
    "## Question1:\n",
    "## Use a dictionary to store information about a person you know. Store their first name, last name, age, and the city in which they live. You should have keys such as first_name, last_name, age, and city. Print each piece of information stored in your dictionary. Add a new key value pair about qualification then update the qualification value to high academic level then delete it.\n"
   ]
  },
  {
   "cell_type": "code",
   "execution_count": 1,
   "metadata": {},
   "outputs": [
    {
     "name": "stdout",
     "output_type": "stream",
     "text": [
      "{'first_name': '', 'last_name': '', 'age': '', 'city': ''}\n",
      "Enter your First Name \n",
      "Fahad\n",
      "Enter your Last Name \n",
      "Shamim\n",
      "Enter your age \n",
      "23\n",
      "Enter your City \n",
      "Karachi\n",
      "{'first_name': 'Fahad', 'last_name': 'Shamim', 'age': '23', 'city': 'Karachi'}\n",
      "Enter your qualification \n",
      "Intermediate\n",
      "{'first_name': 'Fahad', 'last_name': 'Shamim', 'age': '23', 'city': 'Karachi', 'qualification': 'Intermediate'}\n",
      "{'first_name': 'Fahad', 'last_name': 'Shamim', 'age': '23', 'city': 'Karachi'}\n"
     ]
    }
   ],
   "source": [
    "## Creating Dictionary with Empty values of Key\n",
    "\n",
    "personInfo = {\n",
    "    \"first_name\" : \"\",\n",
    "    \"last_name\" : \"\",\n",
    "    \"age\" : \"\",\n",
    "    \"city\" : \"\"\n",
    "}\n",
    "\n",
    "print(personInfo)\n",
    "\n",
    "## Getting input data from User and assigning values to Keys\n",
    "\n",
    "personInfo[\"first_name\"] = input(\"Enter your First Name \\n\")\n",
    "personInfo[\"last_name\"] = input(\"Enter your Last Name \\n\")\n",
    "personInfo[\"age\"] = input(\"Enter your age \\n\")\n",
    "personInfo[\"city\"] = input(\"Enter your City \\n\")\n",
    "\n",
    "print(personInfo)\n",
    "\n",
    "## creating a new Key and getting data into it from User\n",
    "personInfo[\"qualification\"] = \"\"\n",
    "personInfo[\"qualification\"] = input(\"Enter your qualification \\n\")\n",
    "\n",
    "print(personInfo)\n",
    "\n",
    "## Deleting recently created Key and value pair\n",
    "del personInfo[\"qualification\"]\n",
    " \n",
    "## Dictionary after deleting qualification Key    \n",
    "print(personInfo)"
   ]
  },
  {
   "cell_type": "markdown",
   "metadata": {},
   "source": [
    "## Question2:\n",
    "## Make a dictionary called cities. Use the names of three cities as keys in your dictionary. Create a dictionary of information about each city and include the country that the city is in, its approximate population, and one fact about that city. The keys for each city’s dictionary should be something like country, population, and fact. Print the name of each city and all of the information you have stored about it.\n"
   ]
  },
  {
   "cell_type": "code",
   "execution_count": 1,
   "metadata": {},
   "outputs": [
    {
     "name": "stdout",
     "output_type": "stream",
     "text": [
      "{'Karachi': {'country': 'Pakistan', 'population': 70000000, 'fact': 'Sea Port'}, 'Berlin': {'country': 'Germany', 'population': 32452341, 'fact': 'Hotels'}, 'Vince': {'country': 'Italy', 'population': 8979332, 'fact': 'Pasta'}}\n"
     ]
    }
   ],
   "source": [
    "cities = {\n",
    "    \"Karachi\" : {\n",
    "        \"country\" : \"Pakistan\",\n",
    "        \"population\" : 70000000,\n",
    "        \"fact\" : \"Sea Port\"\n",
    "    },\n",
    "    \n",
    "    \"Berlin\" : {\n",
    "        \"country\" : \"Germany\",\n",
    "        \"population\" : 32452341,\n",
    "        \"fact\" : \"Hotels\"\n",
    "    },\n",
    "    \n",
    "    \"Vince\" : {\n",
    "        \"country\" : \"Italy\",\n",
    "        \"population\" : 8979332,\n",
    "        \"fact\" : \"Pasta\"\n",
    "    } \n",
    "}\n",
    "\n",
    "print(cities)"
   ]
  },
  {
   "cell_type": "markdown",
   "metadata": {},
   "source": [
    "## Question3:\n",
    "## A movie theater charges different ticket prices depending on a person’s age. If a person is under the age of 3, the ticket is free; if they are between 3 and 12, the ticket is USD 10; and if they are over age 12, the ticket is USD 15 . Write a loop in which you ask users their age, and then tell them the cost of their movie ticket."
   ]
  },
  {
   "cell_type": "code",
   "execution_count": 24,
   "metadata": {},
   "outputs": [
    {
     "name": "stdout",
     "output_type": "stream",
     "text": [
      "Welcome to Movie Theater \n",
      "\n",
      "Please tell us your Age \n",
      "23\n",
      "The ticket is $15\n"
     ]
    }
   ],
   "source": [
    "print(\"Welcome to Movie Theater \\n\")\n",
    "Age = int(input(\"Please tell us your Age \\n\"))\n",
    "\n",
    "if Age < 3:\n",
    "    print(\"Here is your free ticket :)\")\n",
    "elif Age >= 3 and Age <= 12:\n",
    "    print(\"The ticket is $10\")\n",
    "elif Age > 12:\n",
    "    print(\"The ticket is $15\")"
   ]
  },
  {
   "cell_type": "markdown",
   "metadata": {},
   "source": [
    "## Question4:\n",
    "## Write a function called favorite_book() that accepts one parameter, title. The function should print a message, such as One of my favorite books is Alice in Wonderland. Call the function, making sure to include a book title as an argument in the function call.\n"
   ]
  },
  {
   "cell_type": "code",
   "execution_count": 29,
   "metadata": {},
   "outputs": [
    {
     "name": "stdout",
     "output_type": "stream",
     "text": [
      "One of my favorite books is Alita Battle Angel\n"
     ]
    }
   ],
   "source": [
    "def favorite_book(title):\n",
    "    print(\"One of my favorite books is \" + title)\n",
    "\\\n",
    "title = \"Alita Battle Angel\"\n",
    "    \n",
    "favorite_book(title)"
   ]
  },
  {
   "cell_type": "markdown",
   "metadata": {},
   "source": [
    "## Guess the number game\n",
    "## Write a program which randomly generate a number between 1 to 30 and ask the user in input field to guess the correct number. Give three chances to user guess the number and also give hint to user if hidden number is greater or smaller than the number he given to input field."
   ]
  },
  {
   "cell_type": "code",
   "execution_count": 8,
   "metadata": {},
   "outputs": [
    {
     "name": "stdout",
     "output_type": "stream",
     "text": [
      "Enter Your Guessed number ! \n",
      "23\n",
      "You have guesses wrong number, Hint: your number is less than hidden number\n",
      "Enter Your number again \n",
      "27\n",
      "You have guesses wrong number, Hint: your number is greater than hidden number\n",
      "Enter Your number again \n",
      "25\n",
      "You have guesses wrong number, Hint: your number is less than hidden number\n",
      "Enter Your number again \n",
      "24\n",
      "You have guesses wrong number, Hint: your number is less than hidden number\n",
      "Enter Your number again \n",
      "26\n",
      "Your guess is correct which is: 26\n",
      "\n"
     ]
    }
   ],
   "source": [
    "from random import randint\n",
    "\n",
    "randomNumber = randint(1, 30)\n",
    "userNumber = int(input(\"Enter Your Guessed number ! \\n\"))\n",
    "\n",
    "# if userNumber == randomNumber:\n",
    "#     print(\"You guess is correct \\n\")\n",
    "# else userNumber < randomNumber:\n",
    "#     print(\"You have guesses wrong number, Hint: your number is less than hidden number\")\n",
    "#     userNumber = int(input(\"Enter Your again \\n\"))\n",
    "# else userNumber > randomNumber:\n",
    "#     print(\"You have guesses wrong number, Hint: your number is greater than hidden number\")\n",
    "#     userNumber = int(input(\"Enter Your again \\n\"))\n",
    "    \n",
    "def checkNum(userNumber):\n",
    "    if userNumber == randomNumber:\n",
    "        print(\"Your guess is correct which is: \" + str(randomNumber) + \"\\n\")\n",
    "    \n",
    "    elif userNumber < randomNumber:\n",
    "        print(\"You have guesses wrong number, Hint: your number is less than hidden number\")\n",
    "        userNumber = int(input(\"Enter Your number again \\n\"))\n",
    "        checkNum(userNumber)\n",
    "        \n",
    "    elif userNumber > randomNumber:\n",
    "        print(\"You have guesses wrong number, Hint: your number is greater than hidden number\")\n",
    "        userNumber = int(input(\"Enter Your number again \\n\"))\n",
    "        checkNum(userNumber)\n",
    " \n",
    "checkNum(userNumber)"
   ]
  },
  {
   "cell_type": "code",
   "execution_count": null,
   "metadata": {},
   "outputs": [],
   "source": []
  }
 ],
 "metadata": {
  "kernelspec": {
   "display_name": "Python 3",
   "language": "python",
   "name": "python3"
  },
  "language_info": {
   "codemirror_mode": {
    "name": "ipython",
    "version": 3
   },
   "file_extension": ".py",
   "mimetype": "text/x-python",
   "name": "python",
   "nbconvert_exporter": "python",
   "pygments_lexer": "ipython3",
   "version": "3.7.4"
  }
 },
 "nbformat": 4,
 "nbformat_minor": 2
}
