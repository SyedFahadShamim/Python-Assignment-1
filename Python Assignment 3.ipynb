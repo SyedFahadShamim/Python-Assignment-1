{
 "cells": [
  {
   "cell_type": "markdown",
   "metadata": {},
   "source": [
    "## 1. Make a calculator using Python with addition , subtraction , multiplication ,\n",
    "## division and power.\n"
   ]
  },
  {
   "cell_type": "code",
   "execution_count": 2,
   "metadata": {},
   "outputs": [
    {
     "name": "stdout",
     "output_type": "stream",
     "text": [
      "Please select your choice\n",
      "1 for Addition +\n",
      "2 for Substraction -\n",
      "3 for Multiplication x\n",
      "4 for Division /\n",
      "5 for Power ^\n",
      "Enter your selection \n",
      "3\n",
      "Enter First Number \n",
      "4\n",
      "Enter Second Number \n",
      "5\n",
      "Answer :  20\n"
     ]
    }
   ],
   "source": [
    "print(\"Please select your choice\")\n",
    "print(\"1 for Addition +\")\n",
    "print(\"2 for Substraction -\")\n",
    "print(\"3 for Multiplication x\")\n",
    "print(\"4 for Division /\")\n",
    "print(\"5 for Power ^\")\n",
    "\n",
    "operator = input(\"Enter your selection \\n\")\n",
    "\n",
    "num1 = int(input(\"Enter First Number \\n\"))\n",
    "num2 = int(input(\"Enter Second Number \\n\"))\n",
    "\n",
    "if operator == \"1\":\n",
    "    print(\"Answer : \",(num1 + num2))\n",
    "    \n",
    "elif operator == \"2\":\n",
    "    print(\"Answer : \",(num1 - num2))\n",
    "\n",
    "elif operator == \"3\":\n",
    "    print(\"Answer : \",(num1 * num2))\n",
    "\n",
    "elif operator == \"4\":\n",
    "    print(\"Answer : \",(num1 / num2))\n",
    "\n",
    "elif operator == \"5\":\n",
    "    print(\"Answer : \",(num1 ** num2))\n",
    "\n",
    "else:\n",
    "    print(\"You entered wrong selection\")"
   ]
  },
  {
   "cell_type": "markdown",
   "metadata": {},
   "source": [
    "# 2. Write a program to check if there is any numeric value in list using for loop"
   ]
  },
  {
   "cell_type": "code",
   "execution_count": 20,
   "metadata": {},
   "outputs": [
    {
     "name": "stdout",
     "output_type": "stream",
     "text": [
      "['1', '2', '3', '4', '99']\n"
     ]
    }
   ],
   "source": [
    "mylist=['1','orange','2','3',\"Karachi\",'4','apple',\"99\", \"Kashmir\"]\n",
    "\n",
    "numCheck = [s for s in mylist if s.isdigit()] ## this will check if list have any digit or numbers.\n",
    "\n",
    "print(numCheck)"
   ]
  },
  {
   "cell_type": "markdown",
   "metadata": {},
   "source": [
    "# 3. Write a Python script to add a key to a dictionary"
   ]
  },
  {
   "cell_type": "code",
   "execution_count": 25,
   "metadata": {},
   "outputs": [
    {
     "name": "stdout",
     "output_type": "stream",
     "text": [
      "{'color': 'blue', 'Brand': 'Toyota', 'Type': 'Automatic'}\n",
      "{'color': 'blue', 'Brand': 'Toyota', 'Type': 'Automatic', 'Gears': 4}\n"
     ]
    }
   ],
   "source": [
    "car = {\n",
    "    \"color\" : \"blue\",\n",
    "    \"Brand\" : \"Toyota\",\n",
    "    \"Type\" : \"Automatic\"\n",
    "}\n",
    "\n",
    "print(car)\n",
    "\n",
    "car[\"Gears\"] = 4 ## adding new key to dictionary \n",
    "\n",
    "print(car)\n"
   ]
  },
  {
   "cell_type": "markdown",
   "metadata": {},
   "source": [
    "## 4. Write a Python program to sum all the numeric items in a dictionary "
   ]
  },
  {
   "cell_type": "code",
   "execution_count": 1,
   "metadata": {},
   "outputs": [
    {
     "name": "stdout",
     "output_type": "stream",
     "text": [
      "658\n"
     ]
    }
   ],
   "source": [
    "NumbersList = [3,5,82,423,6,2,90,47]\n",
    "\n",
    "sumAll = 0\n",
    "\n",
    "for i in range(len(NumbersList)):\n",
    "    sumAll = sumAll + NumbersList[i]\n",
    "\n",
    "print(sumAll)"
   ]
  },
  {
   "cell_type": "markdown",
   "metadata": {},
   "source": [
    "## 5. Write a Python script to check if a given key already exists in a dictionary"
   ]
  },
  {
   "cell_type": "code",
   "execution_count": 52,
   "metadata": {},
   "outputs": [
    {
     "name": "stdout",
     "output_type": "stream",
     "text": [
      "Enter key \n",
      "c\n",
      "Key is Present, value = 300\n"
     ]
    }
   ],
   "source": [
    "dict1 = {'a': 100, 'b':200, 'c':300} \n",
    "\n",
    "key = input(\"Enter key \\n\")\n",
    "\n",
    "if key in dict1.keys():\n",
    "    print(\"Key is Present,\", end =\" \") \n",
    "    print(\"value =\", dict1[key]) \n",
    "else: \n",
    "    print(\"Key Not present\")"
   ]
  },
  {
   "cell_type": "code",
   "execution_count": null,
   "metadata": {},
   "outputs": [],
   "source": []
  },
  {
   "cell_type": "code",
   "execution_count": null,
   "metadata": {},
   "outputs": [],
   "source": []
  }
 ],
 "metadata": {
  "kernelspec": {
   "display_name": "Python 3",
   "language": "python",
   "name": "python3"
  },
  "language_info": {
   "codemirror_mode": {
    "name": "ipython",
    "version": 3
   },
   "file_extension": ".py",
   "mimetype": "text/x-python",
   "name": "python",
   "nbconvert_exporter": "python",
   "pygments_lexer": "ipython3",
   "version": "3.6.7"
  }
 },
 "nbformat": 4,
 "nbformat_minor": 2
}
