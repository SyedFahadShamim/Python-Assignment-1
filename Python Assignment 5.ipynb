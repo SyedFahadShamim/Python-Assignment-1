{
 "cells": [
  {
   "cell_type": "markdown",
   "metadata": {},
   "source": [
    "# Question:1\n",
    "## Write a Python function to calculate the factorial of a number (a non-negative\n",
    "## integer). The function accepts the number as an argument."
   ]
  },
  {
   "cell_type": "code",
   "execution_count": 2,
   "metadata": {},
   "outputs": [
    {
     "name": "stdout",
     "output_type": "stream",
     "text": [
      "Enter your number to calculate its Factorial \n",
      "4\n",
      "Factorial of 4 is 24\n"
     ]
    }
   ],
   "source": [
    "userNumber = int(input(\"Enter your number to calculate its Factorial \\n\"))\n",
    "\n",
    "factorial = 1;\n",
    "\n",
    "if userNumber < 0:\n",
    "    print(\"Factorial of negative numbers can't be calculated\")\n",
    "\n",
    "else: \n",
    "    originalNumber = userNumber\n",
    "    \n",
    "    while userNumber >= 1:\n",
    "        factorial = userNumber * factorial\n",
    "        userNumber = userNumber - 1\n",
    "        \n",
    "print(\"Factorial of \" + str(originalNumber) + \" is \" + str(factorial))        "
   ]
  },
  {
   "cell_type": "markdown",
   "metadata": {},
   "source": [
    "## Question:2\n",
    "## Write a Python function that accepts a string and calculate the number of upper\n",
    "## case letters and lower case letters. "
   ]
  },
  {
   "cell_type": "code",
   "execution_count": 3,
   "metadata": {},
   "outputs": [
    {
     "name": "stdout",
     "output_type": "stream",
     "text": [
      "Enter your String i.e alphabets only \n",
      "Pakistan Zindabaad\n",
      "Pakistan Zindabaad have 2 upper case letter and 15 lower case letter\n"
     ]
    }
   ],
   "source": [
    "userInput = input(\"Enter your String i.e alphabets only \\n\")\n",
    "\n",
    "def caseChecker(stringText):\n",
    "    \n",
    "    upperCounter = 0 #initial counters to count the occurrence of upper and lower case letter\n",
    "    lowerCounter = 0\n",
    "    \n",
    "    for eachElement in stringText: #starting a loop to check every single element of the string\n",
    "        \n",
    "        if eachElement.isupper(): #this built in function method check if the character is in Capital/upper state\n",
    "            upperCounter+=1\n",
    "            \n",
    "        elif eachElement.islower(): #this built in function method check if the character is in lower/small state\n",
    "            lowerCounter+=1\n",
    "        \n",
    "    print(stringText + \" have \" + str(upperCounter) + \" upper case letter and \" + str(lowerCounter) + \" lower case letter\") \n",
    "\n",
    "caseChecker(userInput) #Calling our custom function\n"
   ]
  },
  {
   "cell_type": "markdown",
   "metadata": {},
   "source": [
    "## Question:3\n",
    "## Write a Python function to print the even numbers from a given list"
   ]
  },
  {
   "cell_type": "code",
   "execution_count": 4,
   "metadata": {},
   "outputs": [
    {
     "name": "stdout",
     "output_type": "stream",
     "text": [
      "10, 2, 52, 68, 0, 8 are Even numbers"
     ]
    }
   ],
   "source": [
    "numbersList = [10,2,5,3,67,43,52,68,23,0,8,91]\n",
    "\n",
    "def evenNumbersInList(myList):\n",
    "    evenList = []\n",
    "    \n",
    "    for check in range(len(myList)):\n",
    "        if myList[check] % 2 == 0: #Check at every iteration where the number is divisible by two or not\n",
    "            evenList.append(myList[check])\n",
    "            \n",
    "    print(*evenList, sep=', ', end=\" are Even numbers\")    \n",
    "\n",
    "    \n",
    "evenNumbersInList(numbersList)"
   ]
  },
  {
   "cell_type": "markdown",
   "metadata": {},
   "source": [
    "## Question:4\n",
    "## Write a Python function that checks whether a passed string is palindrome or not.\n",
    "## Note: A palindrome is a word, phrase, or sequence that reads the same\n",
    "## backward as forward, e.g., madam"
   ]
  },
  {
   "cell_type": "code",
   "execution_count": 6,
   "metadata": {
    "scrolled": true
   },
   "outputs": [
    {
     "name": "stdout",
     "output_type": "stream",
     "text": [
      "Enter string to check whether it's PALINDROME or not \n",
      "Civic\n",
      "It is a Palindrome\n"
     ]
    }
   ],
   "source": [
    "stringInput = input(\"Enter string to check whether it's PALINDROME or not \\n\")\n",
    "\n",
    "def isPalindrome(passString):\n",
    "    stringLength = len(passString)\n",
    "    reverseString = \"\"\n",
    "    \n",
    "    while stringLength > 0: \n",
    "        reverseString += passString[ stringLength - 1 ] #saving the index in reverse order\n",
    "        stringLength = stringLength - 1\n",
    "        \n",
    "    if reverseString.lower() == passString.lower():\n",
    "        print(\"It is a Palindrome\")\n",
    "    else:\n",
    "        print(\"It is not a Palindrome\")\n",
    "#     print(reverseString)\n",
    " \n",
    "    \n",
    "isPalindrome(stringInput)    "
   ]
  },
  {
   "cell_type": "markdown",
   "metadata": {},
   "source": [
    "## Question:5\n",
    "## Write a Python function that takes a number as a parameter and check the\n",
    "## number is prime or not.\n"
   ]
  },
  {
   "cell_type": "code",
   "execution_count": 1,
   "metadata": {},
   "outputs": [
    {
     "name": "stdout",
     "output_type": "stream",
     "text": [
      "Enter Number \n",
      "7\n",
      "7 is a prime Number\n"
     ]
    }
   ],
   "source": [
    "num = int(input(\"Enter Number \\n\"))\n",
    "    \n",
    "def isPrime(number):\n",
    "    if number == 2 or number == 3:\n",
    "        print(str(number) + \" is a prime Number\") \n",
    "    elif number % 2 == 0 or number % 3 == 0 or number % 5 == 0:\n",
    "        print(str(number) + \" is not a prime Number\")\n",
    "    else:\n",
    "        print(str(number) + \" is a prime Number\")\n",
    "        \n",
    "isPrime(num)        "
   ]
  },
  {
   "cell_type": "markdown",
   "metadata": {},
   "source": [
    "## Suppose a customer is shopping in a market and you need to print all the items\n",
    "## which user bought from market.\n",
    "## Write a function which accepts the multiple arguments of user shopping list and\n",
    "## print all the items which user bought from market.\n"
   ]
  },
  {
   "cell_type": "code",
   "execution_count": null,
   "metadata": {},
   "outputs": [],
   "source": [
    "import pprint\n",
    "\n",
    "print(\"------------- Availble Items in the Market -------------- \\n\")\n",
    "print(\"Select item number \\n\")\n",
    "\n",
    "itemsList = {\n",
    "    1 : \"Butter\",\n",
    "    2 : \"Honey\",\n",
    "    3 : \"Eggs\",\n",
    "    4 : \"Bread\",\n",
    "    5 : \"Milk\",\n",
    "    6 : \"Wheat\",\n",
    "    7 : \"Chicken\",\n",
    "    8 : \"Tea\",\n",
    "    9 : \"Sugar\"\n",
    "}\n",
    "\n",
    "pprint.pprint(itemsList) #print dictionay in formatted manner\n",
    "\n",
    "customerItems = int(input(\"\\n Enter item number to add in Cart \\n\"))\n",
    "\n",
    "AddToCart = []\n",
    "def boughtItems(*item):\n",
    "    \n",
    "    for itemNumber in item:\n",
    "        AddToCart.append(itemsList[itemNumber])\n",
    "        pprint.pprint(AddToCart)\n",
    "        \n",
    "        var = input(\"Want to buy more ? Enter Yes or No \\n\")\n",
    "        \n",
    "        if var.lower() == \"yes\":\n",
    "            var1 = int(input(\"Enter item number to add in Cart \\n\"))\n",
    "            boughtItems(var1)\n",
    "            print(AddToCart)\n",
    "            \n",
    "        elif var.lower() == \"no\":\n",
    "            \n",
    "            print(AddToCart)\n",
    "            break\n",
    "\n",
    "boughtItems(customerItems)\n"
   ]
  },
  {
   "cell_type": "code",
   "execution_count": null,
   "metadata": {},
   "outputs": [],
   "source": []
  }
 ],
 "metadata": {
  "kernelspec": {
   "display_name": "Python 3",
   "language": "python",
   "name": "python3"
  },
  "language_info": {
   "codemirror_mode": {
    "name": "ipython",
    "version": 3
   },
   "file_extension": ".py",
   "mimetype": "text/x-python",
   "name": "python",
   "nbconvert_exporter": "python",
   "pygments_lexer": "ipython3",
   "version": "3.7.4"
  }
 },
 "nbformat": 4,
 "nbformat_minor": 2
}
