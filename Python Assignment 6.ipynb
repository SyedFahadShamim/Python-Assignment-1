{
 "cells": [
  {
   "cell_type": "markdown",
   "metadata": {},
   "source": [
    "## Question 1: Define Object Oriented Programming Language?"
   ]
  },
  {
   "cell_type": "code",
   "execution_count": null,
   "metadata": {},
   "outputs": [],
   "source": [
    "answer) Object Oriented Programming is a type of Programming in which we structure our code like real world entities and Objects\n",
    "        with their properties and attributes along with their operations they perform called as methods or functions."
   ]
  },
  {
   "cell_type": "markdown",
   "metadata": {},
   "source": [
    "## Question 2: List down the Benefits of OOP?"
   ]
  },
  {
   "cell_type": "code",
   "execution_count": null,
   "metadata": {},
   "outputs": [],
   "source": [
    "answer) 1. Well Organized and structure coding.\n",
    "        2. Objects can also be reused within an across applications.\n",
    "        3. Code readability.\n",
    "        4. It implements real life scenario.\n",
    "        5. We can create our own refernce types.\n",
    "        6. Easy Debugging."
   ]
  },
  {
   "cell_type": "markdown",
   "metadata": {},
   "source": [
    "## Question 3: Differentiate between function and method?"
   ]
  },
  {
   "cell_type": "code",
   "execution_count": null,
   "metadata": {},
   "outputs": [],
   "source": [
    "answer) Function: functions are simply a chunk of code to perform some task, it can be parameterized or non-parameterized.\n",
    "        \n",
    "        Methods: methods are some how like functions but they are associated with objects, objects can call methods. Methods\n",
    "                 may return or may not return a value."
   ]
  },
  {
   "cell_type": "markdown",
   "metadata": {},
   "source": [
    "## Question 4:\n",
    "## Define the following terms:\n",
    "## 1. Class\n",
    "## 2. Object\n",
    "## 3. Attribute\n",
    "## 4. Behavior"
   ]
  },
  {
   "cell_type": "code",
   "execution_count": null,
   "metadata": {},
   "outputs": [],
   "source": [
    "Class: Class is a blueprint or prototype of real world objects. Class allows us to implement the behavoiur of an object.\n",
    "\n",
    "Object: An object is a component of program used in that knows how to perform certain actions and how to interact with \n",
    "        other elements of the program. \n",
    "\n",
    "Attribute: Attributes are the characteristics of the class that help to distinguish it from other classes.\n",
    "\n",
    "Behavior: Behaviors are the tasks that an object performs.    \n",
    "        "
   ]
  },
  {
   "cell_type": "code",
   "execution_count": null,
   "metadata": {},
   "outputs": [],
   "source": []
  },
  {
   "cell_type": "code",
   "execution_count": 16,
   "metadata": {},
   "outputs": [
    {
     "name": "stdout",
     "output_type": "stream",
     "text": [
      "Toyota 1996 Yellow\n",
      "Honda 1999 White\n",
      "Lexus 208 Green\n",
      "Mehran 1992 Black\n",
      "Mira 2016 Blue\n",
      "\n",
      "\n",
      "Car name is Toyota\n",
      "Car name is White\n",
      "Car name is Green\n"
     ]
    }
   ],
   "source": [
    "class Car:\n",
    "    def __init__(self, name, model, color):\n",
    "        self.name = name\n",
    "        self.model = model\n",
    "        self.color = color\n",
    "        \n",
    "## 3 Methods   \n",
    "\n",
    "    def CarName(self):\n",
    "        print(\"Car name is \" + self.name)\n",
    "    \n",
    "    def CarModel(self):\n",
    "        print(\"Car model is \" + int(self.model))\n",
    "        \n",
    "    def CarColor(self):\n",
    "        print(\"Car name is \" + self.color)\n",
    "                \n",
    "        \n",
    "##  5 Object Instance\n",
    "\n",
    "c1 = Car(\"Toyota\", 1996, \"Yellow\")\n",
    "c2 = Car(\"Honda\", 1999, \"White\")\n",
    "c3 = Car(\"Lexus\", 208, \"Green\")\n",
    "c4 = Car(\"Mehran\", 1992, \"Black\")\n",
    "c5 = Car(\"Mira\", 2016, \"Blue\")\n",
    "\n",
    "print(c1.name, c1.model, c1.color)\n",
    "print(c2.name, c2.model, c2.color)\n",
    "print(c3.name, c3.model, c3.color)\n",
    "print(c4.name, c4.model, c4.color)\n",
    "print(c5.name, c5.model, c5.color)\n",
    "\n",
    "print(\"\\n\")\n",
    "\n",
    "## Printing from methods\n",
    "\n",
    "c1.CarName()\n",
    "c2.CarColor()\n",
    "c3.CarColor()"
   ]
  },
  {
   "cell_type": "code",
   "execution_count": null,
   "metadata": {},
   "outputs": [],
   "source": []
  }
 ],
 "metadata": {
  "kernelspec": {
   "display_name": "Python 3",
   "language": "python",
   "name": "python3"
  },
  "language_info": {
   "codemirror_mode": {
    "name": "ipython",
    "version": 3
   },
   "file_extension": ".py",
   "mimetype": "text/x-python",
   "name": "python",
   "nbconvert_exporter": "python",
   "pygments_lexer": "ipython3",
   "version": "3.7.4"
  }
 },
 "nbformat": 4,
 "nbformat_minor": 2
}
